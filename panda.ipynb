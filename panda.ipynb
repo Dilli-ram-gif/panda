{
 "cells": [
  {
   "cell_type": "markdown",
   "id": "87d0057b",
   "metadata": {},
   "source": [
    "### This the Panda Practice session"
   ]
  },
  {
   "cell_type": "code",
   "execution_count": 1,
   "id": "d3e73318",
   "metadata": {},
   "outputs": [],
   "source": [
    "#creating Series with a list"
   ]
  },
  {
   "cell_type": "code",
   "execution_count": 3,
   "id": "07d5afcc",
   "metadata": {},
   "outputs": [],
   "source": [
    "import pandas as pd\n",
    "import numpy as np"
   ]
  },
  {
   "cell_type": "code",
   "execution_count": 5,
   "id": "ecabf581",
   "metadata": {},
   "outputs": [
    {
     "data": {
      "text/plain": [
       "0    10\n",
       "1    20\n",
       "2    30\n",
       "3    40\n",
       "4    50\n",
       "5    60\n",
       "dtype: int64"
      ]
     },
     "execution_count": 5,
     "metadata": {},
     "output_type": "execute_result"
    }
   ],
   "source": [
    "\n",
    "pd.Series([10,20,30,40,50,60])"
   ]
  },
  {
   "cell_type": "code",
   "execution_count": 9,
   "id": "8e16762b",
   "metadata": {},
   "outputs": [],
   "source": [
    "# Creating the data and index with the help of list"
   ]
  },
  {
   "cell_type": "code",
   "execution_count": 10,
   "id": "aefe5be8",
   "metadata": {},
   "outputs": [],
   "source": [
    "list_data = [1,3,5,7,9,11,13]\n",
    "list_index = ['a','b','c','d','e','f','g']"
   ]
  },
  {
   "cell_type": "code",
   "execution_count": 11,
   "id": "327b4de0",
   "metadata": {},
   "outputs": [],
   "source": [
    "variable = pd.Series(list_data, list_index)"
   ]
  },
  {
   "cell_type": "code",
   "execution_count": 12,
   "id": "53484639",
   "metadata": {},
   "outputs": [
    {
     "data": {
      "text/plain": [
       "a     1\n",
       "b     3\n",
       "c     5\n",
       "d     7\n",
       "e     9\n",
       "f    11\n",
       "g    13\n",
       "dtype: int64"
      ]
     },
     "execution_count": 12,
     "metadata": {},
     "output_type": "execute_result"
    }
   ],
   "source": [
    "variable"
   ]
  },
  {
   "cell_type": "code",
   "execution_count": 13,
   "id": "39628933",
   "metadata": {},
   "outputs": [
    {
     "data": {
      "text/plain": [
       "pandas.core.series.Series"
      ]
     },
     "execution_count": 13,
     "metadata": {},
     "output_type": "execute_result"
    }
   ],
   "source": [
    "type(variable)"
   ]
  },
  {
   "cell_type": "markdown",
   "id": "44454b16",
   "metadata": {},
   "source": [
    "### Creating a Pandas Series with a dictionary"
   ]
  },
  {
   "cell_type": "code",
   "execution_count": 14,
   "id": "6b74da67",
   "metadata": {},
   "outputs": [],
   "source": [
    "dictionary = {\n",
    "    'ferrari' : 334,\n",
    "    'porche' : 337.9,\n",
    "    'lamborghini' : 349\n",
    "}"
   ]
  },
  {
   "cell_type": "code",
   "execution_count": 15,
   "id": "97fd4f8d",
   "metadata": {},
   "outputs": [
    {
     "data": {
      "text/plain": [
       "ferrari        334.0\n",
       "porche         337.9\n",
       "lamborghini    349.0\n",
       "dtype: float64"
      ]
     },
     "execution_count": 15,
     "metadata": {},
     "output_type": "execute_result"
    }
   ],
   "source": [
    "pd.Series(dictionary)"
   ]
  },
  {
   "cell_type": "code",
   "execution_count": 16,
   "id": "f6e13a54",
   "metadata": {},
   "outputs": [],
   "source": [
    "variable = pd.Series(data = dictionary, index = ['porche', 'bugatti', 'ferrari'])"
   ]
  },
  {
   "cell_type": "code",
   "execution_count": 17,
   "id": "43bd3d50",
   "metadata": {},
   "outputs": [
    {
     "data": {
      "text/plain": [
       "porche     337.9\n",
       "bugatti      NaN\n",
       "ferrari    334.0\n",
       "dtype: float64"
      ]
     },
     "execution_count": 17,
     "metadata": {},
     "output_type": "execute_result"
    }
   ],
   "source": [
    "variable"
   ]
  },
  {
   "cell_type": "markdown",
   "id": "1156a852",
   "metadata": {},
   "source": [
    "### Note: As the value of the bugatti is not available, it is shown as NaN (not a number)"
   ]
  },
  {
   "cell_type": "markdown",
   "id": "d009814d",
   "metadata": {},
   "source": [
    "### Creating Pandas Series with NumPy Array"
   ]
  },
  {
   "cell_type": "code",
   "execution_count": 20,
   "id": "bcf9ad44",
   "metadata": {},
   "outputs": [],
   "source": [
    "example = np.array([1,3,3,5,7.2,9])\n",
    "labels = np.array(['a','b','c','d','e', 'f'])"
   ]
  },
  {
   "cell_type": "code",
   "execution_count": 21,
   "id": "ad61e4e3",
   "metadata": {},
   "outputs": [],
   "source": [
    "variable = pd.Series(data=example, index= labels)"
   ]
  },
  {
   "cell_type": "code",
   "execution_count": 22,
   "id": "3f756ba7",
   "metadata": {},
   "outputs": [
    {
     "data": {
      "text/plain": [
       "a    1.0\n",
       "b    3.0\n",
       "c    3.0\n",
       "d    5.0\n",
       "e    7.2\n",
       "f    9.0\n",
       "dtype: float64"
      ]
     },
     "execution_count": 22,
     "metadata": {},
     "output_type": "execute_result"
    }
   ],
   "source": [
    "variable"
   ]
  },
  {
   "cell_type": "code",
   "execution_count": 23,
   "id": "cdb82371",
   "metadata": {},
   "outputs": [],
   "source": [
    "variable = pd.Series(data=labels, index= example)"
   ]
  },
  {
   "cell_type": "code",
   "execution_count": 24,
   "id": "55b852da",
   "metadata": {},
   "outputs": [
    {
     "data": {
      "text/plain": [
       "1.0    a\n",
       "3.0    b\n",
       "3.0    c\n",
       "5.0    d\n",
       "7.2    e\n",
       "9.0    f\n",
       "dtype: object"
      ]
     },
     "execution_count": 24,
     "metadata": {},
     "output_type": "execute_result"
    }
   ],
   "source": [
    "variable"
   ]
  },
  {
   "cell_type": "markdown",
   "id": "462f86da",
   "metadata": {},
   "source": [
    "### Object Types in Series"
   ]
  },
  {
   "cell_type": "code",
   "execution_count": 25,
   "id": "c9268d5f",
   "metadata": {},
   "outputs": [],
   "source": [
    "example = pd.Series(['world', 100, 5.8, False])"
   ]
  },
  {
   "cell_type": "code",
   "execution_count": 26,
   "id": "54eafa0d",
   "metadata": {},
   "outputs": [
    {
     "data": {
      "text/plain": [
       "0    world\n",
       "1      100\n",
       "2      5.8\n",
       "3    False\n",
       "dtype: object"
      ]
     },
     "execution_count": 26,
     "metadata": {},
     "output_type": "execute_result"
    }
   ],
   "source": [
    "example"
   ]
  },
  {
   "cell_type": "code",
   "execution_count": 27,
   "id": "aadfaf02",
   "metadata": {},
   "outputs": [
    {
     "data": {
      "text/plain": [
       "'world'"
      ]
     },
     "execution_count": 27,
     "metadata": {},
     "output_type": "execute_result"
    }
   ],
   "source": [
    "example[0]"
   ]
  },
  {
   "cell_type": "code",
   "execution_count": 28,
   "id": "4bb13978",
   "metadata": {},
   "outputs": [
    {
     "data": {
      "text/plain": [
       "str"
      ]
     },
     "execution_count": 28,
     "metadata": {},
     "output_type": "execute_result"
    }
   ],
   "source": [
    "type(example[0])"
   ]
  },
  {
   "cell_type": "code",
   "execution_count": 33,
   "id": "3622a0d7",
   "metadata": {},
   "outputs": [
    {
     "data": {
      "text/plain": [
       "0    <built-in function sum>\n",
       "1             <class 'type'>\n",
       "2    <built-in function max>\n",
       "3             <class 'type'>\n",
       "dtype: object"
      ]
     },
     "execution_count": 33,
     "metadata": {},
     "output_type": "execute_result"
    }
   ],
   "source": [
    "pd.Series([sum, type, max, type])"
   ]
  },
  {
   "cell_type": "markdown",
   "id": "0658ce65",
   "metadata": {},
   "source": [
    "### Examining the Primary features of the Pandas"
   ]
  },
  {
   "cell_type": "code",
   "execution_count": 34,
   "id": "ae8e4999",
   "metadata": {},
   "outputs": [],
   "source": [
    "example =  pd.Series([10, 20, 30, 40, 50, 60, 70])"
   ]
  },
  {
   "cell_type": "code",
   "execution_count": 35,
   "id": "177b2936",
   "metadata": {},
   "outputs": [
    {
     "data": {
      "text/plain": [
       "0    10\n",
       "1    20\n",
       "2    30\n",
       "3    40\n",
       "4    50\n",
       "5    60\n",
       "6    70\n",
       "dtype: int64"
      ]
     },
     "execution_count": 35,
     "metadata": {},
     "output_type": "execute_result"
    }
   ],
   "source": [
    "example"
   ]
  },
  {
   "cell_type": "code",
   "execution_count": 36,
   "id": "64c1d9c7",
   "metadata": {},
   "outputs": [
    {
     "data": {
      "text/plain": [
       "[RangeIndex(start=0, stop=7, step=1)]"
      ]
     },
     "execution_count": 36,
     "metadata": {},
     "output_type": "execute_result"
    }
   ],
   "source": [
    "example.axes"
   ]
  },
  {
   "cell_type": "code",
   "execution_count": 37,
   "id": "c37fd0a8",
   "metadata": {},
   "outputs": [
    {
     "data": {
      "text/plain": [
       "dtype('int64')"
      ]
     },
     "execution_count": 37,
     "metadata": {},
     "output_type": "execute_result"
    }
   ],
   "source": [
    "example.dtype"
   ]
  },
  {
   "cell_type": "code",
   "execution_count": 38,
   "id": "8dcd5d27",
   "metadata": {},
   "outputs": [],
   "source": [
    "example = pd.Series(['apple', 'banana', 'mango', 'grapes'])"
   ]
  },
  {
   "cell_type": "code",
   "execution_count": 39,
   "id": "1591df40",
   "metadata": {},
   "outputs": [
    {
     "data": {
      "text/plain": [
       "0     apple\n",
       "1    banana\n",
       "2     mango\n",
       "3    grapes\n",
       "dtype: object"
      ]
     },
     "execution_count": 39,
     "metadata": {},
     "output_type": "execute_result"
    }
   ],
   "source": [
    "example"
   ]
  },
  {
   "cell_type": "code",
   "execution_count": 40,
   "id": "519ef3b4",
   "metadata": {},
   "outputs": [
    {
     "data": {
      "text/plain": [
       "dtype('O')"
      ]
     },
     "execution_count": 40,
     "metadata": {},
     "output_type": "execute_result"
    }
   ],
   "source": [
    "example.dtype"
   ]
  },
  {
   "cell_type": "code",
   "execution_count": 41,
   "id": "377bea31",
   "metadata": {},
   "outputs": [],
   "source": [
    "example =  pd.Series([10, 20, 30, 40, 50, 60, 70])"
   ]
  },
  {
   "cell_type": "code",
   "execution_count": 42,
   "id": "564c06d5",
   "metadata": {},
   "outputs": [
    {
     "data": {
      "text/plain": [
       "0    10\n",
       "1    20\n",
       "2    30\n",
       "3    40\n",
       "4    50\n",
       "5    60\n",
       "6    70\n",
       "dtype: int64"
      ]
     },
     "execution_count": 42,
     "metadata": {},
     "output_type": "execute_result"
    }
   ],
   "source": [
    "example"
   ]
  },
  {
   "cell_type": "code",
   "execution_count": 43,
   "id": "48ec6a20",
   "metadata": {},
   "outputs": [
    {
     "data": {
      "text/plain": [
       "dtype('int64')"
      ]
     },
     "execution_count": 43,
     "metadata": {},
     "output_type": "execute_result"
    }
   ],
   "source": [
    "example.dtype"
   ]
  },
  {
   "cell_type": "code",
   "execution_count": 44,
   "id": "a8ee4ba8",
   "metadata": {},
   "outputs": [
    {
     "data": {
      "text/plain": [
       "7"
      ]
     },
     "execution_count": 44,
     "metadata": {},
     "output_type": "execute_result"
    }
   ],
   "source": [
    "example.size"
   ]
  },
  {
   "cell_type": "code",
   "execution_count": 45,
   "id": "b9abbc41",
   "metadata": {},
   "outputs": [
    {
     "data": {
      "text/plain": [
       "1"
      ]
     },
     "execution_count": 45,
     "metadata": {},
     "output_type": "execute_result"
    }
   ],
   "source": [
    "example.ndim"
   ]
  },
  {
   "cell_type": "markdown",
   "id": "e86b8bed",
   "metadata": {},
   "source": [
    "### Note: This ndim function checks the dimension of the series."
   ]
  },
  {
   "cell_type": "code",
   "execution_count": 46,
   "id": "f5c739fb",
   "metadata": {},
   "outputs": [
    {
     "data": {
      "text/plain": [
       "0    10\n",
       "1    20\n",
       "2    30\n",
       "3    40\n",
       "4    50\n",
       "dtype: int64"
      ]
     },
     "execution_count": 46,
     "metadata": {},
     "output_type": "execute_result"
    }
   ],
   "source": [
    "example.head()"
   ]
  },
  {
   "cell_type": "code",
   "execution_count": 47,
   "id": "f180163f",
   "metadata": {},
   "outputs": [
    {
     "data": {
      "text/plain": [
       "0    10\n",
       "1    20\n",
       "dtype: int64"
      ]
     },
     "execution_count": 47,
     "metadata": {},
     "output_type": "execute_result"
    }
   ],
   "source": [
    "example.head(2)"
   ]
  },
  {
   "cell_type": "code",
   "execution_count": 48,
   "id": "448cd6fc",
   "metadata": {},
   "outputs": [
    {
     "data": {
      "text/plain": [
       "0    10\n",
       "1    20\n",
       "2    30\n",
       "dtype: int64"
      ]
     },
     "execution_count": 48,
     "metadata": {},
     "output_type": "execute_result"
    }
   ],
   "source": [
    "example.head(3)"
   ]
  },
  {
   "cell_type": "code",
   "execution_count": 50,
   "id": "801c09e7",
   "metadata": {},
   "outputs": [
    {
     "data": {
      "text/plain": [
       "2    30\n",
       "3    40\n",
       "4    50\n",
       "5    60\n",
       "6    70\n",
       "dtype: int64"
      ]
     },
     "execution_count": 50,
     "metadata": {},
     "output_type": "execute_result"
    }
   ],
   "source": [
    "example.tail()"
   ]
  },
  {
   "cell_type": "code",
   "execution_count": 51,
   "id": "b065175d",
   "metadata": {},
   "outputs": [
    {
     "data": {
      "text/plain": [
       "4    50\n",
       "5    60\n",
       "6    70\n",
       "dtype: int64"
      ]
     },
     "execution_count": 51,
     "metadata": {},
     "output_type": "execute_result"
    }
   ],
   "source": [
    "example.tail(3)"
   ]
  },
  {
   "cell_type": "markdown",
   "id": "1dde2958",
   "metadata": {},
   "source": [
    "### The most applied Methods on Pandas Series"
   ]
  },
  {
   "cell_type": "code",
   "execution_count": 53,
   "id": "a87cb7bc",
   "metadata": {},
   "outputs": [],
   "source": [
    "variable = pd.Series(data = [8, 3, 6, 5, 1], index = ['b', 'd', 'c', 'a', 'e'])"
   ]
  },
  {
   "cell_type": "code",
   "execution_count": 54,
   "id": "d19b78da",
   "metadata": {},
   "outputs": [
    {
     "data": {
      "text/plain": [
       "b    8\n",
       "d    3\n",
       "c    6\n",
       "a    5\n",
       "e    1\n",
       "dtype: int64"
      ]
     },
     "execution_count": 54,
     "metadata": {},
     "output_type": "execute_result"
    }
   ],
   "source": [
    "variable"
   ]
  },
  {
   "cell_type": "code",
   "execution_count": 55,
   "id": "17b69aa0",
   "metadata": {},
   "outputs": [],
   "source": [
    "new_variable = variable.sort_index()"
   ]
  },
  {
   "cell_type": "code",
   "execution_count": 56,
   "id": "2a3d43b0",
   "metadata": {},
   "outputs": [
    {
     "data": {
      "text/plain": [
       "a    5\n",
       "b    8\n",
       "c    6\n",
       "d    3\n",
       "e    1\n",
       "dtype: int64"
      ]
     },
     "execution_count": 56,
     "metadata": {},
     "output_type": "execute_result"
    }
   ],
   "source": [
    "new_variable"
   ]
  },
  {
   "cell_type": "code",
   "execution_count": 57,
   "id": "184f1069",
   "metadata": {},
   "outputs": [
    {
     "data": {
      "text/plain": [
       "e    1\n",
       "d    3\n",
       "a    5\n",
       "c    6\n",
       "b    8\n",
       "dtype: int64"
      ]
     },
     "execution_count": 57,
     "metadata": {},
     "output_type": "execute_result"
    }
   ],
   "source": [
    "new_variable.sort_values()"
   ]
  },
  {
   "cell_type": "code",
   "execution_count": 58,
   "id": "70b8bdf4",
   "metadata": {},
   "outputs": [],
   "source": [
    "new_variable2 = variable.sort_values()"
   ]
  },
  {
   "cell_type": "code",
   "execution_count": 59,
   "id": "259997b8",
   "metadata": {},
   "outputs": [
    {
     "data": {
      "text/plain": [
       "e    1\n",
       "d    3\n",
       "a    5\n",
       "c    6\n",
       "b    8\n",
       "dtype: int64"
      ]
     },
     "execution_count": 59,
     "metadata": {},
     "output_type": "execute_result"
    }
   ],
   "source": [
    "new_variable2"
   ]
  },
  {
   "cell_type": "code",
   "execution_count": 60,
   "id": "a969f49b",
   "metadata": {},
   "outputs": [
    {
     "data": {
      "text/plain": [
       "b    False\n",
       "d    False\n",
       "c     True\n",
       "a    False\n",
       "e     True\n",
       "dtype: bool"
      ]
     },
     "execution_count": 60,
     "metadata": {},
     "output_type": "execute_result"
    }
   ],
   "source": [
    "variable.isin([6,1])"
   ]
  },
  {
   "cell_type": "code",
   "execution_count": 62,
   "id": "5c0473a5",
   "metadata": {},
   "outputs": [
    {
     "data": {
      "text/plain": [
       "Index(['b', 'd', 'c', 'a', 'e'], dtype='object')"
      ]
     },
     "execution_count": 62,
     "metadata": {},
     "output_type": "execute_result"
    }
   ],
   "source": [
    "variable.index"
   ]
  },
  {
   "cell_type": "code",
   "execution_count": 64,
   "id": "6510e733",
   "metadata": {},
   "outputs": [
    {
     "data": {
      "text/plain": [
       "array([8, 3, 6, 5, 1], dtype=int64)"
      ]
     },
     "execution_count": 64,
     "metadata": {},
     "output_type": "execute_result"
    }
   ],
   "source": [
    "variable.values"
   ]
  },
  {
   "cell_type": "markdown",
   "id": "522fbdf1",
   "metadata": {},
   "source": [
    "### Let's use List comprehension"
   ]
  },
  {
   "cell_type": "code",
   "execution_count": 65,
   "id": "7b135490",
   "metadata": {},
   "outputs": [
    {
     "data": {
      "text/plain": [
       "[8, 3, 6, 5, 1]"
      ]
     },
     "execution_count": 65,
     "metadata": {},
     "output_type": "execute_result"
    }
   ],
   "source": [
    "[x for x in variable.values]"
   ]
  },
  {
   "cell_type": "code",
   "execution_count": 66,
   "id": "dfda3497",
   "metadata": {},
   "outputs": [
    {
     "data": {
      "text/plain": [
       "Index(['b', 'd', 'c', 'a', 'e'], dtype='object')"
      ]
     },
     "execution_count": 66,
     "metadata": {},
     "output_type": "execute_result"
    }
   ],
   "source": [
    "variable.index"
   ]
  },
  {
   "cell_type": "markdown",
   "id": "54bbaa8b",
   "metadata": {},
   "source": [
    "### Using List comprehension for index"
   ]
  },
  {
   "cell_type": "code",
   "execution_count": 68,
   "id": "4d203c2b",
   "metadata": {},
   "outputs": [],
   "source": [
    "index = [i for i in variable.index]"
   ]
  },
  {
   "cell_type": "code",
   "execution_count": 69,
   "id": "361a1fd4",
   "metadata": {},
   "outputs": [
    {
     "data": {
      "text/plain": [
       "['b', 'd', 'c', 'a', 'e']"
      ]
     },
     "execution_count": 69,
     "metadata": {},
     "output_type": "execute_result"
    }
   ],
   "source": [
    "index"
   ]
  },
  {
   "cell_type": "code",
   "execution_count": 73,
   "id": "9552e83d",
   "metadata": {},
   "outputs": [
    {
     "data": {
      "text/plain": [
       "'bdcae'"
      ]
     },
     "execution_count": 73,
     "metadata": {},
     "output_type": "execute_result"
    }
   ],
   "source": [
    "\"\".join(index)    # Using the join function to join the strings removing the comma between them"
   ]
  },
  {
   "cell_type": "code",
   "execution_count": 74,
   "id": "3e19c0df",
   "metadata": {},
   "outputs": [
    {
     "data": {
      "text/plain": [
       "<bound method Series.items of b    8\n",
       "d    3\n",
       "c    6\n",
       "a    5\n",
       "e    1\n",
       "dtype: int64>"
      ]
     },
     "execution_count": 74,
     "metadata": {},
     "output_type": "execute_result"
    }
   ],
   "source": [
    "variable.items"
   ]
  },
  {
   "cell_type": "code",
   "execution_count": 80,
   "id": "8859a4ff",
   "metadata": {},
   "outputs": [
    {
     "data": {
      "text/plain": [
       "[('b', 8), ('d', 3), ('c', 6), ('a', 5), ('e', 1)]"
      ]
     },
     "execution_count": 80,
     "metadata": {},
     "output_type": "execute_result"
    }
   ],
   "source": [
    "list(variable.items())    # Changing into list, NOTE : items() method gives index and values in tuple inside the list"
   ]
  },
  {
   "cell_type": "markdown",
   "id": "8a4e4e68",
   "metadata": {},
   "source": [
    "### Using for loop"
   ]
  },
  {
   "cell_type": "code",
   "execution_count": 81,
   "id": "d22f64e5",
   "metadata": {},
   "outputs": [
    {
     "name": "stdout",
     "output_type": "stream",
     "text": [
      "b >> 8\n",
      "d >> 3\n",
      "c >> 6\n",
      "a >> 5\n",
      "e >> 1\n"
     ]
    }
   ],
   "source": [
    "for index, value in variable.items():\n",
    "    print(index, \">>\" , value)"
   ]
  },
  {
   "cell_type": "markdown",
   "id": "0bfda877",
   "metadata": {},
   "source": [
    "### Indexing and Slicing Pandas"
   ]
  },
  {
   "cell_type": "code",
   "execution_count": 83,
   "id": "f6d25141",
   "metadata": {},
   "outputs": [],
   "source": [
    "example = pd.Series(['+90', '+49', '+33', '+39', '+46', '+47'], index = ['Turkey','Germany', 'France', 'Italy', 'Sweden', 'Norway'])"
   ]
  },
  {
   "cell_type": "code",
   "execution_count": 84,
   "id": "38e26cf1",
   "metadata": {},
   "outputs": [
    {
     "data": {
      "text/plain": [
       "Turkey     +90\n",
       "Germany    +49\n",
       "France     +33\n",
       "Italy      +39\n",
       "Sweden     +46\n",
       "Norway     +47\n",
       "dtype: object"
      ]
     },
     "execution_count": 84,
     "metadata": {},
     "output_type": "execute_result"
    }
   ],
   "source": [
    "example"
   ]
  },
  {
   "cell_type": "code",
   "execution_count": 85,
   "id": "f0652388",
   "metadata": {},
   "outputs": [
    {
     "data": {
      "text/plain": [
       "'+90'"
      ]
     },
     "execution_count": 85,
     "metadata": {},
     "output_type": "execute_result"
    }
   ],
   "source": [
    "example['Turkey']"
   ]
  },
  {
   "cell_type": "code",
   "execution_count": 86,
   "id": "f97c3ef6",
   "metadata": {},
   "outputs": [
    {
     "data": {
      "text/plain": [
       "'+49'"
      ]
     },
     "execution_count": 86,
     "metadata": {},
     "output_type": "execute_result"
    }
   ],
   "source": [
    "example[1]"
   ]
  },
  {
   "cell_type": "code",
   "execution_count": 87,
   "id": "8606c3b3",
   "metadata": {},
   "outputs": [
    {
     "data": {
      "text/plain": [
       "France    +33\n",
       "Italy     +39\n",
       "Sweden    +46\n",
       "dtype: object"
      ]
     },
     "execution_count": 87,
     "metadata": {},
     "output_type": "execute_result"
    }
   ],
   "source": [
    "example[\"France\": 'Sweden']"
   ]
  },
  {
   "cell_type": "code",
   "execution_count": 88,
   "id": "4c1425e9",
   "metadata": {},
   "outputs": [
    {
     "data": {
      "text/plain": [
       "Turkey     +90\n",
       "Germany    +49\n",
       "dtype: object"
      ]
     },
     "execution_count": 88,
     "metadata": {},
     "output_type": "execute_result"
    }
   ],
   "source": [
    "example[0:2]"
   ]
  },
  {
   "cell_type": "code",
   "execution_count": 89,
   "id": "41db50ab",
   "metadata": {},
   "outputs": [
    {
     "data": {
      "text/plain": [
       "France    +33\n",
       "Italy     +39\n",
       "Sweden    +46\n",
       "dtype: object"
      ]
     },
     "execution_count": 89,
     "metadata": {},
     "output_type": "execute_result"
    }
   ],
   "source": [
    "example[2:5]"
   ]
  },
  {
   "cell_type": "code",
   "execution_count": 90,
   "id": "cdbd6a5a",
   "metadata": {},
   "outputs": [],
   "source": [
    "#We can also use step "
   ]
  },
  {
   "cell_type": "markdown",
   "id": "33bbfe69",
   "metadata": {},
   "source": [
    "### [ START : STOP : STEP ]"
   ]
  },
  {
   "cell_type": "code",
   "execution_count": 91,
   "id": "c082ca5a",
   "metadata": {},
   "outputs": [
    {
     "data": {
      "text/plain": [
       "France    +33\n",
       "Sweden    +46\n",
       "dtype: object"
      ]
     },
     "execution_count": 91,
     "metadata": {},
     "output_type": "execute_result"
    }
   ],
   "source": [
    "example[2: 5: 2]"
   ]
  },
  {
   "cell_type": "code",
   "execution_count": 92,
   "id": "71e9401d",
   "metadata": {},
   "outputs": [
    {
     "data": {
      "text/plain": [
       "Norway    +47\n",
       "Turkey    +90\n",
       "dtype: object"
      ]
     },
     "execution_count": 92,
     "metadata": {},
     "output_type": "execute_result"
    }
   ],
   "source": [
    "example[[\"Norway\", \"Turkey\"]]"
   ]
  },
  {
   "cell_type": "markdown",
   "id": "7cab4189",
   "metadata": {},
   "source": [
    "### It's time to push it on "
   ]
  }
 ],
 "metadata": {
  "kernelspec": {
   "display_name": "Python 3 (ipykernel)",
   "language": "python",
   "name": "python3"
  },
  "language_info": {
   "codemirror_mode": {
    "name": "ipython",
    "version": 3
   },
   "file_extension": ".py",
   "mimetype": "text/x-python",
   "name": "python",
   "nbconvert_exporter": "python",
   "pygments_lexer": "ipython3",
   "version": "3.10.9"
  }
 },
 "nbformat": 4,
 "nbformat_minor": 5
}
